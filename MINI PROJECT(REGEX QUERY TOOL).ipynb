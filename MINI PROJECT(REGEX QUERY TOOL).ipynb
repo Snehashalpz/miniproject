{
 "cells": [
  {
   "cell_type": "markdown",
   "id": "d4382fd8",
   "metadata": {},
   "source": [
    "# (REGEX QUERY TOOL)"
   ]
  },
  {
   "cell_type": "code",
   "execution_count": 1,
   "id": "590e1ca3",
   "metadata": {},
   "outputs": [
    {
     "name": "stdout",
     "output_type": "stream",
     "text": [
      "Enter the source text: The quick brown fox jumps over the lazy dog.\n",
      "Enter the regex pattern: \\b\\w{5}\\b\n",
      "Matches found:\n",
      "quick\n",
      "brown\n",
      "jumps\n"
     ]
    }
   ],
   "source": [
    "#Regex Query Tool - A tool that allows the user to enter a text string and then in a separate control enter a regex pattern. \n",
    "#It will run the regular expression against the source text and return any matches or flag errors in the regular \n",
    "#expression.\n",
    "\n",
    "\n",
    "\n",
    "import re\n",
    "\n",
    "def regex_query_tool():\n",
    "    \n",
    "    source_text = input(\"Enter the source text: \")\n",
    "\n",
    "    \n",
    "    regex_pattern = input(\"Enter the regex pattern: \")\n",
    "\n",
    "    try:\n",
    "        \n",
    "        regex = re.compile(regex_pattern)\n",
    "\n",
    "       \n",
    "        matches = regex.findall(source_text)\n",
    "\n",
    "        if matches:\n",
    "            print(\"Matches found:\")\n",
    "            for match in matches:\n",
    "                print(match)\n",
    "        else:\n",
    "            print(\"No matches found.\")\n",
    "\n",
    "    except re.error as e:\n",
    "        \n",
    "        print(\"Error: Invalid regex pattern.\")\n",
    "        print(e)\n",
    "\n",
    "\n",
    "regex_query_tool()\n"
   ]
  },
  {
   "cell_type": "code",
   "execution_count": 3,
   "id": "7e49d5be",
   "metadata": {},
   "outputs": [
    {
     "name": "stdout",
     "output_type": "stream",
     "text": [
      "apple44DkiwiAE --> <re.Match object; span=(0, 7), match='apple44'>\n",
      "apple55bananas --> <re.Match object; span=(0, 7), match='apple55'>\n",
      "apple6ckiwi --> <re.Match object; span=(0, 7), match='apple6c'>\n",
      "appleF7kiwi --> <re.Match object; span=(0, 7), match='appleF7'>\n",
      "applDakii --> None\n",
      "apple00kiwi --> <re.Match object; span=(0, 7), match='apple00'>\n",
      "pple17kiwi --> None\n"
     ]
    }
   ],
   "source": [
    "import re\n",
    "REGX = 'apple[A-Z0-9][a-z0-9]'\n",
    "collection_of_strings = ['apple44DkiwiAE',\n",
    "                         'apple55bananas',\n",
    "                        'apple6ckiwi',\n",
    "                        'appleF7kiwi',\n",
    "                        'applDakii',\n",
    "                        'apple00kiwi',\n",
    "                        'pple17kiwi']\n",
    "for string in collection_of_strings:\n",
    "    print(string,'-->',re.search(REGX, string))"
   ]
  },
  {
   "cell_type": "code",
   "execution_count": null,
   "id": "24e6928d",
   "metadata": {},
   "outputs": [],
   "source": []
  }
 ],
 "metadata": {
  "kernelspec": {
   "display_name": "Python 3 (ipykernel)",
   "language": "python",
   "name": "python3"
  },
  "language_info": {
   "codemirror_mode": {
    "name": "ipython",
    "version": 3
   },
   "file_extension": ".py",
   "mimetype": "text/x-python",
   "name": "python",
   "nbconvert_exporter": "python",
   "pygments_lexer": "ipython3",
   "version": "3.10.9"
  }
 },
 "nbformat": 4,
 "nbformat_minor": 5
}
